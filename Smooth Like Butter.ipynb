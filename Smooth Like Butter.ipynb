{
 "cells": [
  {
   "cell_type": "markdown",
   "id": "0e2d1313-b437-4a1b-a8b3-29f616f0dbc5",
   "metadata": {},
   "source": [
    "### making lists"
   ]
  },
  {
   "cell_type": "code",
   "execution_count": 208,
   "id": "ea652f6a-31ff-4cc1-b2a9-a7e85ec763d0",
   "metadata": {},
   "outputs": [],
   "source": [
    "title_list = []\n",
    "title_2_list = []\n",
    "view_list = []\n",
    "tag_list = [[], [], [], [], [], [], [], []]"
   ]
  },
  {
   "cell_type": "markdown",
   "id": "ea6dd785-8811-49cd-9328-a05f482b4611",
   "metadata": {},
   "source": [
    "### import modules"
   ]
  },
  {
   "cell_type": "code",
   "execution_count": 209,
   "id": "92a6b266-6092-4afe-9721-9a0d5c6793db",
   "metadata": {},
   "outputs": [],
   "source": [
    "import requests\n",
    "import bs4 as bs\n",
    "import pandas as pd"
   ]
  },
  {
   "cell_type": "markdown",
   "id": "c25070d1-c3a0-4446-99bc-ebcb4bb36dec",
   "metadata": {},
   "source": [
    "### url assignment"
   ]
  },
  {
   "cell_type": "code",
   "execution_count": 210,
   "id": "d11ab301-2bad-4630-a2a3-d5ab2025f7f5",
   "metadata": {},
   "outputs": [],
   "source": [
    "url = \"https://www.varzesh3.com/news/\""
   ]
  },
  {
   "cell_type": "markdown",
   "id": "53428acb-2218-4734-833a-96c5ff46b95b",
   "metadata": {},
   "source": [
    "### crawling pages"
   ]
  },
  {
   "cell_type": "code",
   "execution_count": 211,
   "id": "16796050-45ea-4221-a237-4d1da02346d1",
   "metadata": {},
   "outputs": [
    {
     "name": "stdout",
     "output_type": "stream",
     "text": [
      "2000000\n",
      "مثل گل آلبرتینی: برنابئو خاموش شد \n",
      "                                        مارکوس یورنته دیشب بعد از 21 سال توانست به سبک دمیتریو آلبرتینی، سانتیاگو برنابئو را وادار به سکوت کند.\n",
      "                                    \n",
      "28200\n",
      "6\n",
      "رئال مادرید\n",
      "اتلتیکومادرید\n",
      "دیمیتریو آلبرتینی (نایب رئیس فدراسیون)\n",
      "مارکوس یورنته\n",
      "لالیگا اسپانیا\n",
      "فوتبال\n",
      "2000001\n",
      "آغاز تمرینات سپاهان پس از اردوی قطر \n",
      "                                        تمرینات تیم فوتبال سپاهان از ساعتی دیگر در کمپ باغ فردوس آغاز می‌شود.\n",
      "                                    \n",
      "9400\n",
      "3\n",
      "سپاهان\n",
      "لیگ برتر ایران\n",
      "فوتبال\n",
      "2000002\n",
      "دو بازیکن خارجی جدید در راه فوتبال ایران\n",
      "                                        فولاد خوزستان به زودی از دو بازیکن خارجی و جدید خود رونمایی خواهد کرد.\n",
      "                                    \n",
      "87300\n",
      "4\n",
      "فولاد\n",
      "نقل و انتقالات\n",
      "لیگ برتر ایران\n",
      "فوتبال\n",
      "2000003\n",
      "هالند علیه شایعه انتقال به رئال: در سیتی خوشحالم!\n",
      "                                        ارلینگ هالند، مهاجم منچسترسیتی، تایید کرد که از زندگی در انگلیس راضی است تا شایعه جدایی از این باشگاه را تکذیب کند.\n",
      "                                    \n",
      "25000\n",
      "6\n",
      "رئال مادرید\n",
      "منچسترسیتی\n",
      "ارلینگ هالند\n",
      "لیگ برتر انگلیس\n",
      "لالیگا اسپانیا\n",
      "فوتبال\n",
      "2000004\n",
      "موریاسو در بازگشت به ژاپن: اصلا پشیمان نیستم!\n",
      "                                        مربی ژاپن حاضر به قبول اشتباهات تاکتیکی خود در بازی برابر ایران نیست و در بازگشت به ژاپن گفت که ابراز پشیمانی نمی‌کند.\n",
      "                                    \n",
      "107400\n",
      "6\n",
      "تیم ملی ایران\n",
      "تیم ملی ژاپن\n",
      "جام ملت های آسیا\n",
      "هاجیمه موریاسو\n",
      "جام ملت های آسیا 2023\n",
      "فوتبال\n"
     ]
    }
   ],
   "source": [
    "for pagenumber in range(2000000,2000005):\n",
    "    page = url + str(pagenumber) + \"/\"\n",
    "    resp = requests.get(page)\n",
    "    print(pagenumber)\n",
    "    html = bs.BeautifulSoup(resp.content)\n",
    "    try:\n",
    "        title = html.find(\"h1\", class_=\"headline\").get_text().strip(\"\\u200c\").strip(\"\\r\").strip(\"\\n\").strip(\"(عکس)\")\n",
    "        print(title)\n",
    "        title_list.append(title)\n",
    "    except:\n",
    "        title_list.append(\"\")\n",
    "    try:\n",
    "        title_2 = html.find(\"p\", class_=\"lead\").get_text().strip(\"\\u200c\").strip(\"\\r\").strip(\"\\n\").strip(\"(عکس)\")\n",
    "        print(title_2)\n",
    "        title_2_list.append(title_2)\n",
    "    except:\n",
    "        title_2_list.append(\"\")\n",
    "    try:\n",
    "        view = html.find(\"div\", class_=\"news-info\")\n",
    "        view = int(float(view.find_all(\"span\")[2].get_text().strip(\"\\u200c\").strip(\"\\r\").strip(\"\\n\").strip(\"(عکس)\").split()[0][:-1]) * 1000)\n",
    "        print(view)\n",
    "        view_list.append(view)\n",
    "    except:\n",
    "        view_list.append(\"\")\n",
    "    try:\n",
    "        tag = html.find(\"div\", class_=\"tags-news\")\n",
    "        tag = tag.find_all(\"div\")\n",
    "        print(len(tag))\n",
    "        for i in range(len(tag)):\n",
    "            span = tag[i].find(\"span\").get_text()\n",
    "            tag_list[i].append(span)\n",
    "            print(span)\n",
    "        for j in range(-(len(tag_list)-len(tag)),-1):\n",
    "            tag_list[j].append(\"\")\n",
    "    except:\n",
    "        print(\"Not a news\")"
   ]
  },
  {
   "cell_type": "markdown",
   "id": "e79c866c-fdb4-4f8c-97d0-5ab508fb6817",
   "metadata": {},
   "source": [
    "### making generator & iterator for page numbers"
   ]
  },
  {
   "cell_type": "code",
   "execution_count": 212,
   "id": "33acc238-6b48-48e8-9fe8-7a112349eeb7",
   "metadata": {},
   "outputs": [],
   "source": [
    "#for k in range(len(tag_list)-len(tag)):\n",
    " #       if len(tag_list[k]) > len(tag):\n",
    "  #          tag_list[k].append(\"-\")\n",
    "iterator = (i for i in range(len(title_list)))\n",
    "page_number = [number+2000001 for number in iterator]"
   ]
  },
  {
   "cell_type": "markdown",
   "id": "6d9cfcc4-a35d-40f2-9763-b2205677621d",
   "metadata": {},
   "source": [
    "### making dictionary"
   ]
  },
  {
   "cell_type": "code",
   "execution_count": 213,
   "id": "41d42c2c-b812-41f0-ab0b-8a8480837b7c",
   "metadata": {},
   "outputs": [
    {
     "data": {
      "text/plain": [
       "{'page number': [2000001, 2000002, 2000003, 2000004, 2000005],\n",
       " 'title': ['مثل گل آلبرتینی: برنابئو خاموش شد ',\n",
       "  'آغاز تمرینات سپاهان پس از اردوی قطر ',\n",
       "  'دو بازیکن خارجی جدید در راه فوتبال ایران',\n",
       "  'هالند علیه شایعه انتقال به رئال: در سیتی خوشحالم!',\n",
       "  'موریاسو در بازگشت به ژاپن: اصلا پشیمان نیستم!'],\n",
       " 'title 2': ['                                        مارکوس یورنته دیشب بعد از 21 سال توانست به سبک دمیتریو آلبرتینی، سانتیاگو برنابئو را وادار به سکوت کند.\\r\\n                                    ',\n",
       "  '                                        تمرینات تیم فوتبال سپاهان از ساعتی دیگر در کمپ باغ فردوس آغاز می\\u200cشود.\\r\\n                                    ',\n",
       "  '                                        فولاد خوزستان به زودی از دو بازیکن خارجی و جدید خود رونمایی خواهد کرد.\\r\\n                                    ',\n",
       "  '                                        ارلینگ هالند، مهاجم منچسترسیتی، تایید کرد که از زندگی در انگلیس راضی است تا شایعه جدایی از این باشگاه را تکذیب کند.\\r\\n                                    ',\n",
       "  '                                        مربی ژاپن حاضر به قبول اشتباهات تاکتیکی خود در بازی برابر ایران نیست و در بازگشت به ژاپن گفت که ابراز پشیمانی نمی\\u200cکند.\\r\\n                                    '],\n",
       " 'view': [28200, 9400, 87300, 25000, 107400],\n",
       " 'tag 1': ['رئال مادرید', 'سپاهان', 'فولاد', 'رئال مادرید', 'تیم ملی ایران'],\n",
       " 'tag 2': ['اتلتیکومادرید',\n",
       "  'لیگ برتر ایران',\n",
       "  'نقل و انتقالات',\n",
       "  'منچسترسیتی',\n",
       "  'تیم ملی ژاپن'],\n",
       " 'tag 3': ['دیمیتریو آلبرتینی (نایب رئیس فدراسیون)',\n",
       "  'فوتبال',\n",
       "  'لیگ برتر ایران',\n",
       "  'ارلینگ هالند',\n",
       "  'جام ملت های آسیا'],\n",
       " 'tag 4': ['مارکوس یورنته', '', 'فوتبال', 'لیگ برتر انگلیس', 'هاجیمه موریاسو'],\n",
       " 'tag 5': ['لالیگا اسپانیا',\n",
       "  '',\n",
       "  '',\n",
       "  'لالیگا اسپانیا',\n",
       "  'جام ملت های آسیا 2023'],\n",
       " 'tag 6': ['فوتبال', '', '', 'فوتبال', 'فوتبال'],\n",
       " 'tag 7': ['', '', '', '', '']}"
      ]
     },
     "execution_count": 213,
     "metadata": {},
     "output_type": "execute_result"
    }
   ],
   "source": [
    "keys = [\"page number\", \"title\", \"title 2\", \"view\", \"tag 1\", \"tag 2\", \"tag 3\", \"tag 4\", \"tag 5\", \"tag 6\", \"tag 7\"]\n",
    "values = [page_number, title_list, title_2_list, view_list, tag_list[0], tag_list[1], tag_list[2], tag_list[3], tag_list[4], tag_list[5], tag_list[6]]\n",
    "dictionary = dict(zip(keys, values))\n",
    "dictionary"
   ]
  },
  {
   "cell_type": "code",
   "execution_count": 214,
   "id": "fd537d98-ec65-4081-ada8-93732fc05ba8",
   "metadata": {},
   "outputs": [
    {
     "data": {
      "text/html": [
       "<div>\n",
       "<style scoped>\n",
       "    .dataframe tbody tr th:only-of-type {\n",
       "        vertical-align: middle;\n",
       "    }\n",
       "\n",
       "    .dataframe tbody tr th {\n",
       "        vertical-align: top;\n",
       "    }\n",
       "\n",
       "    .dataframe thead th {\n",
       "        text-align: right;\n",
       "    }\n",
       "</style>\n",
       "<table border=\"1\" class=\"dataframe\">\n",
       "  <thead>\n",
       "    <tr style=\"text-align: right;\">\n",
       "      <th></th>\n",
       "      <th>page number</th>\n",
       "      <th>title</th>\n",
       "      <th>title 2</th>\n",
       "      <th>view</th>\n",
       "      <th>tag 1</th>\n",
       "      <th>tag 2</th>\n",
       "      <th>tag 3</th>\n",
       "      <th>tag 4</th>\n",
       "      <th>tag 5</th>\n",
       "      <th>tag 6</th>\n",
       "      <th>tag 7</th>\n",
       "    </tr>\n",
       "  </thead>\n",
       "  <tbody>\n",
       "    <tr>\n",
       "      <th>0</th>\n",
       "      <td>2000001</td>\n",
       "      <td>مثل گل آلبرتینی: برنابئو خاموش شد</td>\n",
       "      <td>مارکوس...</td>\n",
       "      <td>28200</td>\n",
       "      <td>رئال مادرید</td>\n",
       "      <td>اتلتیکومادرید</td>\n",
       "      <td>دیمیتریو آلبرتینی (نایب رئیس فدراسیون)</td>\n",
       "      <td>مارکوس یورنته</td>\n",
       "      <td>لالیگا اسپانیا</td>\n",
       "      <td>فوتبال</td>\n",
       "      <td></td>\n",
       "    </tr>\n",
       "    <tr>\n",
       "      <th>1</th>\n",
       "      <td>2000002</td>\n",
       "      <td>آغاز تمرینات سپاهان پس از اردوی قطر</td>\n",
       "      <td>تمرینا...</td>\n",
       "      <td>9400</td>\n",
       "      <td>سپاهان</td>\n",
       "      <td>لیگ برتر ایران</td>\n",
       "      <td>فوتبال</td>\n",
       "      <td></td>\n",
       "      <td></td>\n",
       "      <td></td>\n",
       "      <td></td>\n",
       "    </tr>\n",
       "    <tr>\n",
       "      <th>2</th>\n",
       "      <td>2000003</td>\n",
       "      <td>دو بازیکن خارجی جدید در راه فوتبال ایران</td>\n",
       "      <td>فولاد ...</td>\n",
       "      <td>87300</td>\n",
       "      <td>فولاد</td>\n",
       "      <td>نقل و انتقالات</td>\n",
       "      <td>لیگ برتر ایران</td>\n",
       "      <td>فوتبال</td>\n",
       "      <td></td>\n",
       "      <td></td>\n",
       "      <td></td>\n",
       "    </tr>\n",
       "    <tr>\n",
       "      <th>3</th>\n",
       "      <td>2000004</td>\n",
       "      <td>هالند علیه شایعه انتقال به رئال: در سیتی خوشحالم!</td>\n",
       "      <td>ارلینگ...</td>\n",
       "      <td>25000</td>\n",
       "      <td>رئال مادرید</td>\n",
       "      <td>منچسترسیتی</td>\n",
       "      <td>ارلینگ هالند</td>\n",
       "      <td>لیگ برتر انگلیس</td>\n",
       "      <td>لالیگا اسپانیا</td>\n",
       "      <td>فوتبال</td>\n",
       "      <td></td>\n",
       "    </tr>\n",
       "    <tr>\n",
       "      <th>4</th>\n",
       "      <td>2000005</td>\n",
       "      <td>موریاسو در بازگشت به ژاپن: اصلا پشیمان نیستم!</td>\n",
       "      <td>مربی ژ...</td>\n",
       "      <td>107400</td>\n",
       "      <td>تیم ملی ایران</td>\n",
       "      <td>تیم ملی ژاپن</td>\n",
       "      <td>جام ملت های آسیا</td>\n",
       "      <td>هاجیمه موریاسو</td>\n",
       "      <td>جام ملت های آسیا 2023</td>\n",
       "      <td>فوتبال</td>\n",
       "      <td></td>\n",
       "    </tr>\n",
       "  </tbody>\n",
       "</table>\n",
       "</div>"
      ],
      "text/plain": [
       "   page number                                              title  \\\n",
       "0      2000001                 مثل گل آلبرتینی: برنابئو خاموش شد    \n",
       "1      2000002               آغاز تمرینات سپاهان پس از اردوی قطر    \n",
       "2      2000003           دو بازیکن خارجی جدید در راه فوتبال ایران   \n",
       "3      2000004  هالند علیه شایعه انتقال به رئال: در سیتی خوشحالم!   \n",
       "4      2000005      موریاسو در بازگشت به ژاپن: اصلا پشیمان نیستم!   \n",
       "\n",
       "                                             title 2    view          tag 1  \\\n",
       "0                                          مارکوس...   28200    رئال مادرید   \n",
       "1                                          تمرینا...    9400         سپاهان   \n",
       "2                                          فولاد ...   87300          فولاد   \n",
       "3                                          ارلینگ...   25000    رئال مادرید   \n",
       "4                                          مربی ژ...  107400  تیم ملی ایران   \n",
       "\n",
       "            tag 2                                   tag 3            tag 4  \\\n",
       "0   اتلتیکومادرید  دیمیتریو آلبرتینی (نایب رئیس فدراسیون)    مارکوس یورنته   \n",
       "1  لیگ برتر ایران                                  فوتبال                    \n",
       "2  نقل و انتقالات                          لیگ برتر ایران           فوتبال   \n",
       "3      منچسترسیتی                            ارلینگ هالند  لیگ برتر انگلیس   \n",
       "4    تیم ملی ژاپن                        جام ملت های آسیا   هاجیمه موریاسو   \n",
       "\n",
       "                   tag 5   tag 6 tag 7  \n",
       "0         لالیگا اسپانیا  فوتبال        \n",
       "1                                       \n",
       "2                                       \n",
       "3         لالیگا اسپانیا  فوتبال        \n",
       "4  جام ملت های آسیا 2023  فوتبال        "
      ]
     },
     "execution_count": 214,
     "metadata": {},
     "output_type": "execute_result"
    }
   ],
   "source": [
    "df = pd.DataFrame(dictionary)\n",
    "df"
   ]
  },
  {
   "cell_type": "code",
   "execution_count": 215,
   "id": "e961bf51-37d9-44e1-88f7-20fc93173178",
   "metadata": {},
   "outputs": [],
   "source": [
    "df.to_csv(\"varzesh3.csv\")"
   ]
  },
  {
   "cell_type": "code",
   "execution_count": null,
   "id": "75aa3894-faa3-4d90-817a-8de0f80fc270",
   "metadata": {},
   "outputs": [],
   "source": []
  }
 ],
 "metadata": {
  "kernelspec": {
   "display_name": "Python 3 (ipykernel)",
   "language": "python",
   "name": "python3"
  },
  "language_info": {
   "codemirror_mode": {
    "name": "ipython",
    "version": 3
   },
   "file_extension": ".py",
   "mimetype": "text/x-python",
   "name": "python",
   "nbconvert_exporter": "python",
   "pygments_lexer": "ipython3",
   "version": "3.12.7"
  }
 },
 "nbformat": 4,
 "nbformat_minor": 5
}
