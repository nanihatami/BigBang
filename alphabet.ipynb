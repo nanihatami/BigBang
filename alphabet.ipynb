{
 "cells": [
  {
   "cell_type": "markdown",
   "id": "35ecb928-8a21-4306-9dec-2a9743255ebb",
   "metadata": {},
   "source": [
    "### Alphabet List"
   ]
  },
  {
   "cell_type": "code",
   "execution_count": 1,
   "id": "c080fcee-b199-41de-b4b8-98fdf08db1c2",
   "metadata": {},
   "outputs": [],
   "source": [
    "alpha = [\"a\", \"b\", \"c\", \"d\", \"e\", \"f\", \"g\", \"h\", \"i\", \"j\", \"k\", \"l\", \"m\", \"n\", \"o\", \"p\", \"q\", \"r\", \"s\", \"t\", \"u\", \"v\", \"w\", \"x\", \"y\", \"z\"]"
   ]
  },
  {
   "cell_type": "markdown",
   "id": "7008e38b-ecd2-4647-a6ff-e4eb07d82832",
   "metadata": {},
   "source": [
    "### Input the Phrase & a Number"
   ]
  },
  {
   "cell_type": "code",
   "execution_count": 2,
   "id": "0e598421-34be-4c30-8602-51ec1de6ae86",
   "metadata": {},
   "outputs": [
    {
     "name": "stdin",
     "output_type": "stream",
     "text": [
      "Enter a phrase:  Smooth like BUTTER\n"
     ]
    }
   ],
   "source": [
    "phrase = input(\"Enter a phrase: \").lower()"
   ]
  },
  {
   "cell_type": "code",
   "execution_count": 4,
   "id": "c7557b88-1ace-4240-9e16-2adb6fdcf134",
   "metadata": {},
   "outputs": [
    {
     "name": "stdin",
     "output_type": "stream",
     "text": [
      "Enter a number:  156313\n"
     ]
    }
   ],
   "source": [
    "num = int(input(\"Enter a number: \"))\n",
    "while num > 26:\n",
    "    num -= 26"
   ]
  },
  {
   "cell_type": "markdown",
   "id": "54a10968-6dd7-4f23-90af-ab69b5d56589",
   "metadata": {},
   "source": [
    "### Main"
   ]
  },
  {
   "cell_type": "code",
   "execution_count": 5,
   "id": "74bdc749-336c-4fcc-a27e-36a051275501",
   "metadata": {},
   "outputs": [
    {
     "data": {
      "text/plain": [
       "'tnppui mjlf cvuufs'"
      ]
     },
     "execution_count": 5,
     "metadata": {},
     "output_type": "execute_result"
    }
   ],
   "source": [
    "new_phrase = []\n",
    "for i in phrase:\n",
    "    if i in alpha:\n",
    "        if alpha.index(i) + num >= 26:\n",
    "            num -= 26\n",
    "        index_ = alpha.index(i) + num\n",
    "        new_phrase.append(alpha[index_])\n",
    "    elif i == \"'\":\n",
    "        new_phrase.append(\"'\")\n",
    "    elif i == \" \":\n",
    "        new_phrase.append(\" \")\n",
    "    elif i == \".\":\n",
    "        new_phrase.append(\".\")\n",
    "    elif i == \"?\":\n",
    "        new_phrase.append(\"?\")\n",
    "    elif i == \"!\":\n",
    "        new_phrase.append(\"!\")\n",
    "    else:\n",
    "        new_phrase.append(\"*\")\n",
    "new_str_phrase = \"\".join(new_phrase)\n",
    "new_str_phrase"
   ]
  },
  {
   "cell_type": "code",
   "execution_count": null,
   "id": "2939b6a2-f3df-40f8-9b14-3ad33d83a8e4",
   "metadata": {},
   "outputs": [],
   "source": []
  },
  {
   "cell_type": "code",
   "execution_count": null,
   "id": "e2e8aaec-4e88-40de-8a22-fc3c28dc2e3a",
   "metadata": {},
   "outputs": [],
   "source": []
  }
 ],
 "metadata": {
  "kernelspec": {
   "display_name": "Python 3 (ipykernel)",
   "language": "python",
   "name": "python3"
  },
  "language_info": {
   "codemirror_mode": {
    "name": "ipython",
    "version": 3
   },
   "file_extension": ".py",
   "mimetype": "text/x-python",
   "name": "python",
   "nbconvert_exporter": "python",
   "pygments_lexer": "ipython3",
   "version": "3.12.7"
  }
 },
 "nbformat": 4,
 "nbformat_minor": 5
}
